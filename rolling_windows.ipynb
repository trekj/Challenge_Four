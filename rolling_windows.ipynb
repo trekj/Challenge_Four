{
 "cells": [
  {
   "cell_type": "markdown",
   "metadata": {},
   "source": [
    "# Rolling Windows\n",
    "\n",
    "In this activity, you'll plot the 20-day, 50-day, and 100-day rolling means (or simple moving averages) and rolling standard deviations for Netflix to determine whether it might be a good investment. \n",
    "\n",
    "Instructions:\n",
    "\n",
    "1. Import the required libraries and dependencies.\n",
    "\n",
    "2. Use the `read_csv` function and the `Path` module to import `nflx.csv` into a Pandas DataFrame. Be sure to set the `DateTimeIndex`. Then review the first five rows of the DataFrame.\n",
    "\n",
    "3. Create a line plot that visualizes the closing prices for the Netflix DataFrame.\n",
    "\n",
    "4. Use the `rolling` function together with the `mean` function to calculate the rolling means for the 20-day, 50-day, and 100-day periods. Visualize the information with a plot for each period.\n",
    "\n",
    "5. Create a visualization that uses the plot for the Netflix closing prices as the foundation (`ax`) and overlays the plots for the 20-day, 50-day and 100-day moving averages.\n",
    "\n",
    "6. Use the `rolling` function together with the `std` function to calculate the rolling standard deviations for the 20-day, 50-day and 100-day periods.\n",
    "\n",
    "7. Create a visualization that uses the plot for the Netflix 20-day rolling standard deviation as the foundation (ax) and overlays the plots for the 50-day and 100-day rolling standard deviations.\n",
    "\n",
    "\n",
    "References:\n",
    "\n",
    "[Pandas rolling function](https://pandas.pydata.org/pandas-docs/stable/reference/api/pandas.DataFrame.rolling.html)\n",
    "\n",
    "[Pandas std function](https://pandas.pydata.org/pandas-docs/stable/reference/api/pandas.DataFrame.std.html)\n",
    "\n"
   ]
  },
  {
   "cell_type": "markdown",
   "metadata": {},
   "source": [
    "## Step 1: Import the required libraries and dependencies."
   ]
  },
  {
   "cell_type": "code",
   "execution_count": 1,
   "metadata": {},
   "outputs": [],
   "source": [
    "# Import Pandas library\n",
    "import pandas as pd\n",
    "\n",
    "# Import the Path module from the pathlib library\n",
    "from pathlib import Path\n",
    "\n",
    "# Import the matplotlib inline dependency\n",
    "%matplotlib inline"
   ]
  },
  {
   "cell_type": "markdown",
   "metadata": {},
   "source": [
    "## Step 2: Use the `read_csv` function and the `Path` module to import `nflx.csv` into a Pandas DataFrame. Be sure to set the `DateTimeIndex`. Then review the first five rows of the DataFrame."
   ]
  },
  {
   "cell_type": "code",
   "execution_count": 8,
   "metadata": {},
   "outputs": [
    {
     "ename": "SyntaxError",
     "evalue": "invalid syntax (<ipython-input-8-45f5864aa3a4>, line 5)",
     "output_type": "error",
     "traceback": [
      "\u001b[1;36m  File \u001b[1;32m\"<ipython-input-8-45f5864aa3a4>\"\u001b[1;36m, line \u001b[1;32m5\u001b[0m\n\u001b[1;33m    Path(C:/Users/jtaga/Desktop/Lesson_Files/Module_4_ Quantitative Analysis with Panda/02-Rolling_Windows/Solved/Resources/nflx.csv),\u001b[0m\n\u001b[1;37m          ^\u001b[0m\n\u001b[1;31mSyntaxError\u001b[0m\u001b[1;31m:\u001b[0m invalid syntax\n"
     ]
    }
   ],
   "source": [
    "# Using the read_csv function and the Path module, read in the \"nflx.csv\" file from the Resources folder\n",
    "# Set the \"date\" as the index column \n",
    "# Be sure to set the DatetimeIndex using the parse_dates and infer_datetime_format parameters\n",
    "nflx_df = pd.read_csv(\n",
    "    Path(\"../Resources/nflx.csv\"), \n",
    "    index_col=\"date\", \n",
    "    infer_datetime_format=True, \n",
    "    parse_dates=True\n",
    ")\n",
    "\n",
    "\n",
    "# Review the 'nflx_df' DataFrame with both the 'head' & 'tail' functions\n",
    "display(nflx_df.head())\n",
    "display(nflx_df.tail())"
   ]
  },
  {
   "cell_type": "markdown",
   "metadata": {},
   "source": [
    "## Step 3: Create a line plot that visualizes the closing prices for the Netflix DataFrame."
   ]
  },
  {
   "cell_type": "code",
   "execution_count": null,
   "metadata": {},
   "outputs": [],
   "source": [
    "# Using the Pandas plot function, create a line plot of the closing prices for the Netflix DataFrame\n",
    "# Be sure to adjust the figure size and include a title\n",
    "nflx_df.plot(figsize=(10,7), title=\"Netflix - Closing Prices\")"
   ]
  },
  {
   "cell_type": "markdown",
   "metadata": {},
   "source": [
    "## Step 4: Use the `rolling` function together with the `mean` function to calculate the rolling means for the 20-day, 50-day, and 100-day periods. Visualize the information with a plot for each period."
   ]
  },
  {
   "cell_type": "code",
   "execution_count": null,
   "metadata": {},
   "outputs": [],
   "source": [
    "# Using the Pandas rolling function in conjunction with the mean function, calculate the 20-day rolling mean for Netflix\n",
    "nflx_sma_20 = nflx_df.rolling(window=20).mean()\n",
    "\n",
    "# Using the Pandas plot function, visualize the Netflix 20-day rolling mean \n",
    "# Be sure to adjust the figure size and add a title\n",
    "nflx_sma_20.plot(figsize=(10,7), title=\"Netflix - 20 Day SMA\")"
   ]
  },
  {
   "cell_type": "code",
   "execution_count": null,
   "metadata": {},
   "outputs": [],
   "source": [
    "# Using the Pandas rolling function in conjunction with the mean function, calculate the 50-day rolling mean for Netflix\n",
    "nflx_sma_50 = nflx_df.rolling(window=50).mean()\n",
    "\n",
    "# Using the Pandas plot function, visualize the Netflix 50-day rolling mean\n",
    "# Be sure to adjust the figure size and add a title\n",
    "nflx_sma_50.plot(figsize=(10,7), title=\"Netflix - 50 Day SMA\")"
   ]
  },
  {
   "cell_type": "code",
   "execution_count": null,
   "metadata": {},
   "outputs": [],
   "source": [
    "# Using the Pandas rolling function in conjunction with the mean function, calculate the 100-day rolling mean for Netflix\n",
    "nflx_sma_100 = nflx_df.rolling(window=100).mean()\n",
    "\n",
    "# Using the Pandas plot function, visualize the Netflix 100-day rolling mean\n",
    "# Be sure to adjust the figure size and add a title\n",
    "nflx_sma_100.plot(figsize=(10,7), title=\"Netflix - 100 Day SMA\")"
   ]
  },
  {
   "cell_type": "markdown",
   "metadata": {},
   "source": [
    "## Step 5: Create a visualization that uses the plot for the Netflix closing prices as the foundation (`ax`) and overlays the plots for the 20-day, 50-day and 100-day moving averages."
   ]
  },
  {
   "cell_type": "code",
   "execution_count": null,
   "metadata": {},
   "outputs": [],
   "source": [
    "# Using the Pandas plot function, create a plot that visualizes the closing prices for Netflix (nflx_df)\n",
    "# Be sure to adjust the figure size and include a title that accounts for all 4 line plots\n",
    "ax = nflx_df.plot(figsize=(25, 10), title=\"Netflix Overlay - Daily Prices, 20-, 50-, and 100-day SMAs\" )\n",
    "\n",
    "# Overlay the plots for the 20, 50, and 100-day rolling means on the same visualization\n",
    "# Hint - be sure to reference the variable ax as a parameter and value inside the plot function for each\n",
    "nflx_sma_20.plot(ax=ax)\n",
    "nflx_sma_50.plot(ax=ax)\n",
    "nflx_sma_100.plot(ax=ax)\n",
    "\n",
    "# Call the legend function on the ax variable to set the legend for your visualization\n",
    "ax.legend([\"Closing Prices\", \"SMA20\", \"SMA50\", \"SMA100\"])"
   ]
  },
  {
   "cell_type": "markdown",
   "metadata": {},
   "source": [
    "## Step 6: Use the `rolling` function together with the `std` function to calculate the rolling standard deviations for the 20-day, 50-day and 100-day periods."
   ]
  },
  {
   "cell_type": "code",
   "execution_count": null,
   "metadata": {},
   "outputs": [],
   "source": [
    "# Using the Pandas rolling function in conjunction with the std function, calculate the 20-day rolling standard deviation for Netflix\n",
    "nflx_std_20 = nflx_df.rolling(window=20).std()\n",
    "\n",
    "# Using the Pandas plot function, visualize the Netflix 20-day rolling standard deviation\n",
    "# Be sure to adjust the figure size and add a title\n",
    "nflx_std_20.plot(figsize=(10,7), title=\"Netflix - 20 Day Standard Deviation\")"
   ]
  },
  {
   "cell_type": "code",
   "execution_count": null,
   "metadata": {},
   "outputs": [],
   "source": [
    "# Using the Pandas rolling function in conjunction with the std function, calculate the 50-day rolling standard deviation for Netflix\n",
    "nflx_std_50 = nflx_df.rolling(window=50).std()\n",
    "\n",
    "# Using the Pandas plot function, visualize the Netflix 50-day rolling standard deviation\n",
    "# Be sure to adjust the figure size and add a title\n",
    "nflx_std_50.plot(figsize=(10,7), title=\"Netflix - 50 Day Standard Deviation\")"
   ]
  },
  {
   "cell_type": "code",
   "execution_count": null,
   "metadata": {},
   "outputs": [],
   "source": [
    "# Using the Pandas rolling function in conjunction with the std function, calculate the 100-day rolling standard deviation for Netflix\n",
    "nflx_std_100 = nflx_df.rolling(window=100).std()\n",
    "\n",
    "# Using the Pandas plot function, visualize the Netflix 100-day rolling standard deviation\n",
    "# Be sure to adjust the figure size and add a title\n",
    "nflx_std_100.plot(figsize=(10,7), title=\"Netflix - 100 Day Standard Deviation\")"
   ]
  },
  {
   "cell_type": "markdown",
   "metadata": {},
   "source": [
    "## Step 7: Create a visualization that uses the plot for the Netflix 20-day rolling standard deviation as the foundation (ax) and overlays the plots for the 50-day and 100-day rolling standard deviations."
   ]
  },
  {
   "cell_type": "code",
   "execution_count": null,
   "metadata": {},
   "outputs": [],
   "source": [
    "# Using the Pandas plot function, create a plot that visualizes the 20-day standard deviation for Netflix\n",
    "# Be sure to adjust the figure size and include a title that accounts for all 3 standard deviation plots\n",
    "ax = nflx_std_20.plot(figsize=(25,10), title=\"Netflix - 20-, 50-, 100-Day Standard Deviation\" )\n",
    "\n",
    "# Overlay the plots for the 50 and 100-day standard deviations on the same visualization\n",
    "# Hint - be sure to reference the variable ax as a parameter and value inside each plot function\n",
    "nflx_std_50.plot(ax=ax)\n",
    "nflx_std_100.plot(ax=ax)\n",
    "\n",
    "# Call the legend function on the ax variable to set the legend for your visualization\n",
    "ax.legend([\"STD20\", \"STD50\", \"STD100\"])"
   ]
  }
 ],
 "metadata": {
  "kernelspec": {
   "display_name": "Python 3",
   "language": "python",
   "name": "python3"
  },
  "language_info": {
   "codemirror_mode": {
    "name": "ipython",
    "version": 3
   },
   "file_extension": ".py",
   "mimetype": "text/x-python",
   "name": "python",
   "nbconvert_exporter": "python",
   "pygments_lexer": "ipython3",
   "version": "3.8.8"
  }
 },
 "nbformat": 4,
 "nbformat_minor": 4
}
